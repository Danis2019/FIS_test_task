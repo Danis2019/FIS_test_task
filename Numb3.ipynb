{
 "cells": [
  {
   "cell_type": "markdown",
   "id": "306da471",
   "metadata": {},
   "source": [
    "# Задание 3"
   ]
  },
  {
   "cell_type": "markdown",
   "id": "d26d5399",
   "metadata": {},
   "source": [
    "Злостный читатель - читатель который не возвращает(всё ещё не вернул книгу), следовательно злостность читателя определяется двумя основными параметрами: "
   ]
  },
  {
   "cell_type": "code",
   "execution_count": 24,
   "id": "749fb404",
   "metadata": {},
   "outputs": [],
   "source": [
    "riders = [['rider name 1', 5, True],\n",
    "         ['rider name 2', 4, False],\n",
    "         ['rider name 3', 1, False]]"
   ]
  },
  {
   "cell_type": "code",
   "execution_count": 25,
   "id": "0973b553",
   "metadata": {},
   "outputs": [
    {
     "data": {
      "text/html": [
       "<div>\n",
       "<style scoped>\n",
       "    .dataframe tbody tr th:only-of-type {\n",
       "        vertical-align: middle;\n",
       "    }\n",
       "\n",
       "    .dataframe tbody tr th {\n",
       "        vertical-align: top;\n",
       "    }\n",
       "\n",
       "    .dataframe thead th {\n",
       "        text-align: right;\n",
       "    }\n",
       "</style>\n",
       "<table border=\"1\" class=\"dataframe\">\n",
       "  <thead>\n",
       "    <tr style=\"text-align: right;\">\n",
       "      <th></th>\n",
       "      <th>Имя</th>\n",
       "      <th>Время на которое взяли книгу(месяцы)</th>\n",
       "      <th>Вернул ли книгу?</th>\n",
       "    </tr>\n",
       "  </thead>\n",
       "  <tbody>\n",
       "    <tr>\n",
       "      <th>0</th>\n",
       "      <td>rider name 1</td>\n",
       "      <td>5</td>\n",
       "      <td>True</td>\n",
       "    </tr>\n",
       "    <tr>\n",
       "      <th>1</th>\n",
       "      <td>rider name 2</td>\n",
       "      <td>4</td>\n",
       "      <td>False</td>\n",
       "    </tr>\n",
       "    <tr>\n",
       "      <th>2</th>\n",
       "      <td>rider name 3</td>\n",
       "      <td>1</td>\n",
       "      <td>False</td>\n",
       "    </tr>\n",
       "  </tbody>\n",
       "</table>\n",
       "</div>"
      ],
      "text/plain": [
       "            Имя  Время на которое взяли книгу(месяцы)  Вернул ли книгу?\n",
       "0  rider name 1                                     5              True\n",
       "1  rider name 2                                     4             False\n",
       "2  rider name 3                                     1             False"
      ]
     },
     "execution_count": 25,
     "metadata": {},
     "output_type": "execute_result"
    }
   ],
   "source": [
    "import pandas as pd\n",
    "df_riders = pd.DataFrame(riders, columns=['Имя', 'Время на которое взяли книгу(месяцы)', 'Вернул ли книгу?'])\n",
    "df_riders"
   ]
  },
  {
   "cell_type": "code",
   "execution_count": 26,
   "id": "dfeab38d",
   "metadata": {},
   "outputs": [],
   "source": [
    "# Функция с алгоритмом:\n",
    "#\n",
    "# За каждый месяц взятой книги мы добавляем одно очко злостности \n",
    "# и если книга ещё не возвращена, мы добавляем одно очко злостности\n",
    "#\n",
    "# Проходимся по всем читателям и их параметрам, которые указаны выше, находим читателя с наибольшей злостностью\n",
    "#\n",
    "def find_evil_rider(riders):\n",
    "    evil_rider = 'Нет злостных читателей'\n",
    "    r_max = 0\n",
    "    for rider in riders:\n",
    "        if rider[1] + int(rider[2]) > r_max:\n",
    "            r_max = rider[1] + int(rider[2])\n",
    "            evil_rider = rider[0]\n",
    "    print('Злостный читатель:', evil_rider)"
   ]
  },
  {
   "cell_type": "code",
   "execution_count": 27,
   "id": "c67719d4",
   "metadata": {},
   "outputs": [
    {
     "name": "stdout",
     "output_type": "stream",
     "text": [
      "Злостный читатель: rider name 1\n"
     ]
    }
   ],
   "source": [
    "find_evil_rider(riders)"
   ]
  },
  {
   "cell_type": "code",
   "execution_count": null,
   "id": "4525fb7c",
   "metadata": {},
   "outputs": [],
   "source": []
  }
 ],
 "metadata": {
  "kernelspec": {
   "display_name": "Python 3 (ipykernel)",
   "language": "python",
   "name": "python3"
  },
  "language_info": {
   "codemirror_mode": {
    "name": "ipython",
    "version": 3
   },
   "file_extension": ".py",
   "mimetype": "text/x-python",
   "name": "python",
   "nbconvert_exporter": "python",
   "pygments_lexer": "ipython3",
   "version": "3.8.3"
  }
 },
 "nbformat": 4,
 "nbformat_minor": 5
}
